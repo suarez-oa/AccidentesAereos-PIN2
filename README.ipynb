{
 "cells": [
  {
   "cell_type": "markdown",
   "metadata": {},
   "source": [
    "# Análisis de Accidentes Aéreos"
   ]
  },
  {
   "cell_type": "markdown",
   "metadata": {},
   "source": [
    "Este repositorio contiene un análisis detallado de accidentes aéreos, centrándose en la exploración, visualización y evaluación de datos relacionados con accidentes ocurridos desde 1908 hasta 2021. Se han seguido varios pasos para obtener información valiosa y desarrollar indicadores clave de desempeño (KPI) para reducir la fatalidad de la tripulación y evaluar los intervalos sin accidentes.\n",
    "\n",
    "<img src=\"AccAereos.jpg\"\n",
    "style = \"width:900px; height:500px\">"
   ]
  },
  {
   "cell_type": "markdown",
   "metadata": {},
   "source": [
    "## Pasos del análisis"
   ]
  },
  {
   "cell_type": "markdown",
   "metadata": {},
   "source": [
    "### 1. Extracción, Transformación y Carga (ETL) de datos en Power BI\n",
    "Se obtuvieron los datos relacionados con accidentes aéreos y se realizaron transformaciones necesarias para su correcto análisis. Utilizando Power BI, se creó un proceso ETL que permitió limpiar, organizar y cargar los datos de manera efectiva para su posterior análisis.\n",
    "\n",
    "<img src=\"Power BI.png\"\n",
    "style = \"width:800px; height:500px\">"
   ]
  },
  {
   "cell_type": "markdown",
   "metadata": {},
   "source": [
    "### 2. Análisis Exploratorio de Datos (EDA) en Power BI\n",
    "Se realizó un análisis exploratorio de los datos utilizando Power BI, centrándose en los accidentes ocurridos desde 1908 hasta 2021. Se examinaron aspectos como la cantidad de accidentes y el número de fallecidos en cada incidente, brindando una visión comprensiva de la evolución a lo largo del tiempo."
   ]
  },
  {
   "cell_type": "markdown",
   "metadata": {},
   "source": [
    "### 3. Indicadores Clave de Desempeño (KPI)\n",
    "\n",
    "#### a. Reducción de Fatalidad de la Tripulación a lo largo de las Décadas\n",
    "Se ha desarrollado un KPI que destaca la reducción de la fatalidad de la tripulación en accidentes aéreos a lo largo de diferentes décadas. Este indicador proporciona información valiosa sobre cómo ha mejorado la seguridad para la tripulación a lo largo del tiempo y permite identificar tendencias positivas.\n",
    "\n",
    "#### b. Evaluación de Intervalos sin Accidentes\n",
    "Otro KPI se ha creado para evaluar los intervalos de tiempo sin accidentes aéreos. Este indicador analiza períodos sin incidentes y proporciona información crucial sobre la seguridad en la aviación en esos intervalos, permitiendo identificar áreas de mejora y celebrar logros en términos de seguridad."
   ]
  },
  {
   "cell_type": "markdown",
   "metadata": {},
   "source": [
    "## Información adicional\n",
    "Para obtener detalles más específicos sobre el análisis y los resultados, consulte el informe completo en Power BI y los archivos relacionados en este repositorio. El análisis está diseñado para brindar una comprensión detallada de los accidentes aéreos y proporcionar información valiosa para mejorar la seguridad en la aviación.\n",
    "\n",
    "Es importante aclarar que los datos utilizados en este análisis son para propósitos educativos y no se garantiza su veracidad. Se recomienda utilizar datos oficiales para análisis más precisos."
   ]
  }
 ],
 "metadata": {
  "kernelspec": {
   "display_name": "Python 3",
   "language": "python",
   "name": "python3"
  },
  "language_info": {
   "codemirror_mode": {
    "name": "ipython",
    "version": 3
   },
   "file_extension": ".py",
   "mimetype": "text/x-python",
   "name": "python",
   "nbconvert_exporter": "python",
   "pygments_lexer": "ipython3",
   "version": "3.10.11"
  }
 },
 "nbformat": 4,
 "nbformat_minor": 2
}
